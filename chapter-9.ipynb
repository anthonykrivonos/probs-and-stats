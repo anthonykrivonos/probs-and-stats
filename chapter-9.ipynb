{
 "cells": [
  {
   "cell_type": "markdown",
   "source": [
    "# Chapter 9"
   ],
   "metadata": {
    "collapsed": false
   }
  },
  {
   "cell_type": "markdown",
   "source": [
    "## Ideal Linear Relationship\n",
    "\n",
    "The simplest type of relationship between a dependent variable $Y$ and independent input variables $x_1, ... x_r$ is a linear one, and it is described as follows...\n",
    "\n",
    "$$ Y = \\beta_0 + \\beta_1x_1  + ... + \\beta_rx_r$$\n",
    " \n",
    "## Realistic Linear Relationship\n",
    " \n",
    " If we could always use the above equation to represent the relationship between input and output variables, we'd be quite lucky. Realistically, however, the linear equation above **is subject to random error**, and this random error is described by the constant $e$. Thus, our new and realistic linear equation becomes the following\n",
    " \n",
    " $$ Y = \\beta_0 + \\beta_1x_1  + ... + \\beta_rx_r + e $$\n",
    " \n",
    " where $e \\sim N(0, \\sigma^2)$\n",
    " \n",
    "## Expectation of Linear Relationship\n",
    "\n",
    "We can look at the above linear relationship involving error and intuitively ask, \"what value of $Y$ will we receive given some inputs $x = x_1, x_2, ..., x_r$?\" Thus, we can summarize the equation as a conditional expectation: the expected value of $Y$ given $x$.\n",
    "\n",
    " $$ E(Y|x) = \\beta_0 + \\beta_1x_1  + ... + \\beta_rx_r $$\n",
    " \n",
    "We don't include $e$ here since its mean is 0.\n",
    "\n",
    "## Bringing it Together\n",
    "\n",
    "The equation mentioned earlier, $ Y = \\beta_0 + \\beta_1x_1  + ... + \\beta_rx_r + e $, is known as the *linear regression equation* and it describes the regression, or correspondence, of $Y$ to a set of inputs $x$. The quantities $/beta_0, ... /beta_n$ are known as *regression coefficients*, and they help us shape our linear equation to represent the correspondence between variables as best as possible.\n",
    "\n",
    "Below is some data that is approximately distributed along\n",
    "x = y and a line of best fit. Notice that the slope is usually very close to $1$."
   ],
   "metadata": {
    "collapsed": false
   }
  },
  {
   "cell_type": "code",
   "execution_count": 9,
   "outputs": [
    {
     "name": "stdout",
     "text": [
      "Y = A + Bx = 22.505665707722073 + 1.0072153693317052X\nn = 10\nmean(x) = 2286.0\nmean(Y) = 2325.0\nmult X*Y = 68722500\nmean X*Y = 53149500.0\nS_xx = 15461440.0\nS_YY = 15686250.0\nS_xY = 15573000.0\nSS_R = 885.0533973549682\nB = 1.0072153693317052\nA = 22.505665707722073\n"
     ],
     "output_type": "stream"
    },
    {
     "data": {
      "text/plain": "<Figure size 432x288 with 1 Axes>",
      "image/png": "[encoded data removed]"
     },
     "metadata": {
      "needs_background": "light"
     },
     "output_type": "display_data"
    }
   ],
   "source": [
    "%matplotlib inline\n",
    "\n",
    "import random\n",
    "import numpy as np\n",
    "import matplotlib.pyplot as plt\n",
    "\n",
    "def generate(frm, to, dev):\n",
    "    x, y = [], []\n",
    "    for i in range(frm, to + 1):\n",
    "        x.append(i)\n",
    "        y.append(i + random.normalvariate(0, dev))\n",
    "    return x, y\n",
    "\n",
    "def regression(X, Y):\n",
    "    n = len(X)\n",
    "    mean_X = sum(X)/n\n",
    "    mean_Y = sum(Y)/n\n",
    "    mult_XY = sum([ X[i] * Y[i] for i in range(n) ])\n",
    "    mean_X_times_Y = mean_X * sum(Y)\n",
    "    S_xx = sum([ (x**2) for x in X ]) - n * mean_X**2\n",
    "    S_YY = sum([ (y**2) for y in Y ]) - n * mean_Y**2\n",
    "    S_xY = sum([ (X[i] - mean_X) * (Y[i] - mean_Y) for i in range(n) ])\n",
    "    S_RR = ((S_xx * S_YY) - S_xY**2) / S_xx\n",
    "    m = (mult_XY - mean_X_times_Y) / S_xx\n",
    "    b = mean_Y - m * mean_X\n",
    "    print(\"Y = A + Bx = \" + str(b) + \" + \" + str(m) + \"X\")\n",
    "    print(\"n = \" + str(n))\n",
    "    print(\"mean(x) = \" + str(mean_X))\n",
    "    print(\"mean(Y) = \" + str(mean_Y))\n",
    "    print(\"mult X*Y = \" + str(mult_XY))\n",
    "    print(\"mean X*Y = \" + str(mean_X_times_Y))\n",
    "    print(\"S_xx = \" + str(S_xx))\n",
    "    print(\"S_YY = \" + str(S_YY))\n",
    "    print(\"S_xY = \" + str(S_xY))\n",
    "    print(\"SS_R = \" + str(S_RR))\n",
    "    print(\"B = \" + str(m))\n",
    "    print(\"A = \" + str(b))\n",
    "    return [ (b + m * x) for x in X ]\n",
    "\n",
    "# x_t, y_t = generate(0, 20, 3)\n",
    "x_t = [ 370, 780, 1210, 1560, 1980, 2450, 3070, 3550, 3940, 3950 ]\n",
    "y_t = [ 400, 800, 1250, 1600, 2000, 2500, 3100, 3600, 4000, 4000 ]\n",
    "y_fit = regression(x_t, y_t)\n",
    "\n",
    "# plt.plot(x_t, y_fit, 'r')\n",
    "# plt.scatter(x_t, y_t)\n",
    "plt.xlabel(\"Predicted Values for Weld Diameter\")\n",
    "plt.ylabel(\"Standardized Residuals\")\n",
    "\n",
    "y_res = [ y_fit[i] - y_t[i]  for i in range(len(y_fit)) ]\n",
    "plt.plot([0, 4000], [0, 0], 'k', linestyle='dashed')\n",
    "plt.scatter(x_t, y_res)\n",
    "\n",
    "# plt.plot(x_t, y_fit, 'r')\n",
    "# plt.scatter(x_t, y_t)\n",
    "# plt.xlabel(\"Shear Strength (psi)\")\n",
    "# plt.ylabel(\"Weld Diameter (.0001 in.)\")\n",
    "plt.show()"
   ],
   "metadata": {
    "collapsed": false,
    "pycharm": {
     "name": "#%%\n",
     "is_executing": false
    }
   }
  },
  {
   "cell_type": "markdown",
   "source": [
    "## Least Squares Estimators of the Regression Parameters\n",
    "\n",
    "\n"
   ],
   "metadata": {
    "collapsed": false
   }
  }
 ],
 "metadata": {
  "kernelspec": {
   "display_name": "Python 3",
   "language": "python",
   "name": "python3"
  },
  "language_info": {
   "codemirror_mode": {
    "name": "ipython",
    "version": 2
   },
   "file_extension": ".py",
   "mimetype": "text/x-python",
   "name": "python",
   "nbconvert_exporter": "python",
   "pygments_lexer": "ipython2",
   "version": "2.7.6"
  },
  "pycharm": {
   "stem_cell": {
    "cell_type": "raw",
    "source": [],
    "metadata": {
     "collapsed": false
    }
   }
  }
 },
 "nbformat": 4,
 "nbformat_minor": 0
}