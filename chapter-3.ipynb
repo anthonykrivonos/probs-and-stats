{
 "cells": [
  {
   "cell_type": "markdown",
   "source": [
    "# Chapter 3"
   ],
   "metadata": {
    "collapsed": false
   }
  },
  {
   "cell_type": "code",
   "execution_count": 24,
   "metadata": {
    "collapsed": true,
    "pycharm": {
     "name": "#%%\n",
     "is_executing": false
    }
   },
   "outputs": [
    {
     "name": "stdout",
     "text": [
      "1. 0 ≤ P(E) ≤ 1\n2. P(S) = 1\n3. Sum of all mutually exclusiveevents is 0\n"
     ],
     "output_type": "stream"
    }
   ],
   "source": [
    "## Axioms of Probability\n",
    "\n",
    "print('1. 0 ≤ P(E) ≤ 1')\n",
    "\n",
    "print('2. P(S) = 1')\n",
    "\n",
    "print('3. Sum of all mutually exclusive'\n",
    "      'events is 0')"
   ]
  },
  {
   "cell_type": "markdown",
   "source": [
    "## Basic Principle of Counting\n",
    "\n",
    "The probability of events E is its cardinality divided by the sample size."
   ],
   "metadata": {
    "collapsed": false,
    "pycharm": {
     "name": "#%% md\n",
     "is_executing": false
    }
   }
  },
  {
   "cell_type": "code",
   "execution_count": 25,
   "outputs": [
    {
     "name": "stdout",
     "text": [
      "What's the prob. of landing a 1 on a fair die?\n0.16666666666666666\n"
     ],
     "output_type": "stream"
    }
   ],
   "source": [
    "def basic(num_events, sample_size):\n",
    "    return num_events / sample_size\n",
    "\n",
    "print('What\\'s the prob. of landing a 1 on a fair die?')\n",
    "print(basic(1, 6))"
   ],
   "metadata": {
    "collapsed": false,
    "pycharm": {
     "name": "#%%\n",
     "is_executing": false
    }
   }
  },
  {
   "cell_type": "markdown",
   "source": [
    "## Generalized Principle of Counting\n",
    "\n",
    "If r experiments are to be performed in such a way that the first one may result in any number of $n_1$ possible outcomes, and if for each of these $n_1$ possible outcomes there are $n_2$ possible outcomes of the second experiment, and so on, then there are a total of\n",
    "\n",
    "$$ n_1 * n_2 * ... * n_r $$\n",
    "\n",
    "possible outcomes of the r experiments."
   ],
   "metadata": {
    "collapsed": false,
    "pycharm": {
     "name": "#%% md\n",
     "is_executing": false
    }
   }
  },
  {
   "cell_type": "code",
   "source": [
    "def fact(num):\n",
    "    return 1 if num is 1 else num * fact(num - 1)\n",
    "\n",
    "# 4 shirts\n",
    "# 3 pants\n",
    "# 4 shoes\n",
    "def ways_to_pick(counts):\n",
    "    mult = 1\n",
    "    for c in counts:\n",
    "        mult *= c\n",
    "    return mult\n",
    "\n",
    "print(str(ways_to_pick([ 4, 3, 4 ])) + ' different ways to arrange 4 shirts, 3 pants, and 4 shoes.')\n",
    "\n",
    "print(str(ways_to_pick([ fact(4), fact(3), fact(2), fact(1) ]) * fact(4)) + ' ways to arrange 4 mathematics books, 3 chemistry books, 2 history books, and 1 language book such that books of the same subject are adjacent.')\n",
    "print('Be sure to take into account that there are 4! different orderings for the above books.')"
   ],
   "metadata": {
    "collapsed": false,
    "pycharm": {
     "name": "#%%\n",
     "is_executing": false
    }
   },
   "execution_count": 26,
   "outputs": [
    {
     "name": "stdout",
     "text": [
      "48 different ways to arrange 4 shirts, 3 pants, and 4 shoes.\n6912 ways to arrange 4 mathematics books, 3 chemistry books, 2 history books, and 1 language book such that books of the same subject are adjacent.\nBe sure to take into account that there are 4! different orderings for the above books.\n"
     ],
     "output_type": "stream"
    }
   ]
  },
  {
   "cell_type": "markdown",
   "source": [
    "## Permutations and Combinations\n",
    "\n",
    "$nCr$ denotes $n$ objects taken $r$ at a time, whereas $nPr$ denotes how many different ways to arrange $n$ objects in $r$ spots."
   ],
   "metadata": {
    "collapsed": false,
    "pycharm": {
     "name": "#%% md\n",
     "is_executing": false
    }
   }
  },
  {
   "cell_type": "code",
   "execution_count": 27,
   "outputs": [],
   "source": [
    "def npr(n, r):\n",
    "    return fact(n) / fact(n - r)\n",
    "\n",
    "def ncr(n, r):\n",
    "    return fact(n) / (fact(n - r) * fact(r))"
   ],
   "metadata": {
    "collapsed": false,
    "pycharm": {
     "name": "#%%\n",
     "is_executing": false
    }
   }
  },
  {
   "cell_type": "markdown",
   "source": [
    "## Bayes Theorem and Conditionality\n",
    "\n",
    "$P(E|F)$ denootes the probability that event E will occur given event F has occurred. Bayes Theorem thus states.\n",
    "\n",
    "$$ P(E|F) = \\frac{P(EF)}{P(F)} $$\n",
    "\n",
    "Moreover, by definition,\n",
    "\n",
    "$$ P(E) = P(EF) + P(EF^c) ⇒ $$\n",
    "$$ P(E) = P(E|F)P(F) + P(E|F^c)P(F^c) $$\n",
    "\n",
    "Thus, Bayes' Implication is as follows:\n",
    "\n",
    "$$ P(E|F) = \\frac{P(EF)}{P(F|E)P(E) + P(F|E^c)P(E^c)} $$\n",
    "\n",
    "Note, if $E$ and $F$ are independent, $P(E|F) = P(E)$."
   ],
   "metadata": {
    "collapsed": false
   }
  },
  {
   "cell_type": "code",
   "execution_count": 28,
   "outputs": [],
   "source": [
    "def prob_e_given_f(prob_ef, prob_f):\n",
    "    return prob_ef / prob_f"
   ],
   "metadata": {
    "collapsed": false,
    "pycharm": {
     "name": "#%%\n",
     "is_executing": false
    }
   }
  }
 ],
 "metadata": {
  "kernelspec": {
   "display_name": "Python 3",
   "language": "python",
   "name": "python3"
  },
  "language_info": {
   "codemirror_mode": {
    "name": "ipython",
    "version": 2
   },
   "file_extension": ".py",
   "mimetype": "text/x-python",
   "name": "python",
   "nbconvert_exporter": "python",
   "pygments_lexer": "ipython2",
   "version": "2.7.6"
  },
  "pycharm": {
   "stem_cell": {
    "cell_type": "raw",
    "source": [],
    "metadata": {
     "collapsed": false
    }
   }
  }
 },
 "nbformat": 4,
 "nbformat_minor": 0
}