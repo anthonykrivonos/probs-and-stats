{
 "cells": [
  {
   "cell_type": "markdown",
   "source": [
    "# Chapter 5"
   ],
   "metadata": {
    "collapsed": false
   }
  },
  {
   "cell_type": "markdown",
   "source": [
    "## Discrete Random Variables"
   ],
   "metadata": {
    "collapsed": false,
    "pycharm": {
     "name": "#%% md\n"
    }
   }
  },
  {
   "cell_type": "markdown",
   "metadata": {
    "collapsed": true,
    "pycharm": {
     "name": "#%% md\n",
     "is_executing": false
    }
   },
   "source": [
    "### Bernoulli R.V.\n",
    "\n",
    "$ X \\sim Bern(p) : f(x)=p^x(1-p)^{1-x} $\n",
    "\n",
    "$ E(X) = p $\n",
    "\n",
    "$ Var(X) = p(1-p) $\n",
    "\n",
    "$ MGF: \\phi(t)=pe^t + (1-p)$"
   ]
  },
  {
   "cell_type": "markdown",
   "source": [
    "### Binomial R.V.\n",
    "\n",
    "$ X \\sim Bin(n, p) : f(x)={{n}\\choose{x}} p^x(1-p)^{n-x} $\n",
    "\n",
    "$ E(X) = np $\n",
    "\n",
    "$ Var(X) = np(1-p) $\n",
    "\n",
    "$ MGF: \\phi(t)=(pe^t + (1-p))^n$"
   ],
   "metadata": {
    "collapsed": false
   }
  },
  {
   "cell_type": "markdown",
   "source": [
    "### Poisson R.V.\n",
    "\n",
    "$ X \\sim Poiss(\\lambda) : f(x)=e^{-\\lambda}\\frac{\\lambda^x}{x!} $\n",
    "\n",
    "$ E(X) = \\lambda $\n",
    "\n",
    "$ Var(X) = \\lambda $\n",
    "\n",
    "$ MGF: \\phi(t)=e^{\\lambda(e^t-1)}$\n",
    "\n",
    "When setting $\\lambda = np$, $Poiss(\\lambda) \\approx Bin(n,p)$ for large n.\n",
    "\n",
    "Gives us an accurate prediction of how likely an event will happen given that it\n",
    "has already happened."
   ],
   "metadata": {
    "collapsed": false
   }
  },
  {
   "cell_type": "markdown",
   "source": [
    "## Hypergeometric R.V.\n",
    "\n",
    "$ X \\sim Hypergeometric(N, M, k) : f(x)=\\frac{{N\\choose x}{M\\choose {k-x}}}{{{N+M}\\choose k}} $\n",
    "\n",
    "$ E(X) = \\frac{N}{N + M}k $"
   ],
   "metadata": {
    "collapsed": false
   }
  },
  {
   "cell_type": "markdown",
   "source": [
    "# Continuous Random Variables"
   ],
   "metadata": {
    "collapsed": false,
    "pycharm": {
     "name": "#%% md\n"
    }
   }
  },
  {
   "cell_type": "markdown",
   "source": [
    "## Uniform Distribution\n",
    "\n",
    "$ X \\sim U(a, b): f(x) = \\frac{u(a)-u(b)}{b-a} $\n",
    "\n",
    "$ E(X) = \\frac{b + a}{2} $\n",
    "\n",
    "$ Var(X) = \\frac{(b-a)^2}{12} $\n",
    "\n",
    "$ MGF: \\phi(t)=\\frac{e^{bt} - e^{at}}{(b-a)t} $"
   ],
   "metadata": {
    "collapsed": false
   }
  },
  {
   "cell_type": "markdown",
   "source": [
    "## Exponential Distribution\n",
    "\n",
    "$ X \\sim Exp(\\lambda): f(x) = \\lambda e^{-\\lambda x} $\n",
    "\n",
    "$ E(X) = \\frac{b + a}{2} $\n",
    "\n",
    "$ Var(X) = \\frac{(b-a)^2}{12} $\n",
    "\n",
    "$ MGF: \\phi(t)=\\frac{e^{bt} - e^{at}}{(b-a)t} $"
   ],
   "metadata": {
    "collapsed": false
   }
  },
  {
   "cell_type": "markdown",
   "source": [
    "## Normal Distribution\n",
    "\n",
    "$ X \\sim N(\\mu, \\sigma^2): f(x) = \\frac{1}{\\sqrt{2\\pi}\\sigma}e^{\\frac{-(x-\\mu)^2}{2\\sigma^2}} $\n",
    "\n",
    "$ E(X) = \\mu $\n",
    "\n",
    "$ Var(X) = \\sigma^2 $\n",
    "\n",
    "$ MGF: \\phi(t)=e^{\\mu t}+e^{\\frac{\\sigma^2 t^2}{2}} $"
   ],
   "metadata": {
    "collapsed": false
   }
  },
  {
   "cell_type": "markdown",
   "source": [
    "## Z-Distribution\n",
    "\n",
    "$ X \\sim Z = N(0, 1): f(x) = \\frac{1}{\\sqrt{2\\pi}}e^{\\frac{-x^2}{2}} $\n",
    "\n",
    "$ E(X) = 0 $\n",
    "\n",
    "$ Var(X) = 1 $\n",
    "\n",
    "$ MGF: \\phi(t)=e^{\\frac{t^2}{2}} $"
   ],
   "metadata": {
    "collapsed": false
   }
  },
  {
   "cell_type": "markdown",
   "source": [
    "## Chi-Square Distribution\n",
    "\n",
    "$ X \\sim \\chi_{n}^{2}: f(x) = Z_{1}^{2} + Z_{2}^{2} + ... + Z_{n}^{2} $\n",
    "\n",
    "$ E(X) = n $\n",
    "\n",
    "$ Var(X) = 2n $"
   ],
   "metadata": {
    "collapsed": false
   }
  },
  {
   "cell_type": "markdown",
   "source": [
    "## T-Distribution\n",
    "\n",
    "The more samples, the more it looks like the Z-distribution. Around n = 20,\n",
    "the curves are practically equal.\n",
    "\n",
    "$ X \\sim T(n): f(x) = \\frac{Z}{\\sqrt{\\chi_{n}^{2}/n}} $\n",
    "\n",
    "$ E(X) = 0 $\n",
    "\n",
    "$ Var(X) = \\frac{n}{n-2} $"
   ],
   "metadata": {
    "collapsed": false
   }
  },
  {
   "cell_type": "markdown",
   "source": [
    "## F-Distribution\n",
    "\n",
    "$ X \\sim F(n, m): f(x) = \\frac{\\chi_{n}^2/n}{\\chi_{m}^2/m} $"
   ],
   "metadata": {
    "collapsed": false
   }
  }
 ],
 "metadata": {
  "kernelspec": {
   "display_name": "Python 3",
   "language": "python",
   "name": "python3"
  },
  "language_info": {
   "codemirror_mode": {
    "name": "ipython",
    "version": 2
   },
   "file_extension": ".py",
   "mimetype": "text/x-python",
   "name": "python",
   "nbconvert_exporter": "python",
   "pygments_lexer": "ipython2",
   "version": "2.7.6"
  },
  "pycharm": {
   "stem_cell": {
    "cell_type": "raw",
    "source": [],
    "metadata": {
     "collapsed": false
    }
   }
  }
 },
 "nbformat": 4,
 "nbformat_minor": 0
}