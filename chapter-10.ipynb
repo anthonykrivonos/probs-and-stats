{
 "cells": [
  {
   "cell_type": "markdown",
   "source": [
    "# Chapter 10\n",
    "Analysis of Variance"
   ],
   "metadata": {
    "collapsed": false
   }
  },
  {
   "cell_type": "markdown",
   "source": [
    "## One-Way Analysis of Variance\n",
    "\n",
    "Consider $m$ independent samples, each of size $n$, where the members\n",
    "of the $i$th sample ––$X_{i1}, X_{i2}, ..., X_{in}$ –– are *normal* random\n",
    "variables each with unknown mean $\\mu_i$ and unknown variance $\\sigma^2$.\n",
    "\n",
    "$ X_{ij} \\sim N(\\mu_i$\n",
    "\n",
    "$ i = 1, ..., m $\n",
    "\n",
    "$ j = 1, ..., n $\n",
    "\n",
    "We want to set up the following hypothesis:\n",
    "\n",
    "$H_0: \\mu_1 = \\mu_2 = ... = \\mu_m$\n",
    "\n",
    "versus\n",
    "\n",
    "$H_1: $ not all means are equal.\n",
    "\n",
    "### Sum of the Squares of their Standard Versions\n",
    "\n",
    "Note, since there are a total of $n \\times m$ independent r.v.s for\n",
    "$X_{ij}$, then the sum of the squares of their standard versions will\n",
    "be a *chi-square* distribution!\n",
    "\n",
    "$ \\sum^m_{i = 1}\\sum^n_{j = 1}(X_{ij}-\\mu_i)^2/\\sigma^2 \\sim \\chi_{mn}^2$ \n",
    "\n",
    "Doesn't make sense? Just think about the fact that each individual r.v. $Xi$ is\n",
    "a normal r.v. When we square those random variables, they become chi-square.\n",
    "\n",
    "\n",
    "### Average of all Elements in One R.V.\n",
    "\n",
    "Let the population average of all the elements in R.V. $i$ be\n",
    "\n",
    "$ \\overline{X_i} = \\sum^n_{j = 1}\\frac{X_{ij}}{n}$\n",
    "\n",
    "\n",
    "## Within Samples Sum of Squares\n",
    "\n",
    "If we replace the population means from our sum of squares of the\n",
    "standard versions, we get a value defined as the *within samples sum of squares*.\n",
    "\n",
    "$ \\sum^m_{i = 1}\\sum^n_{j = 1}(X_{ij}-\\overline{X_i})^2/\\sigma^2 \\sim \\chi_{mn-m}^2$ \n",
    "\n",
    "Notice, this new distribution is of $nm-m$ degrees of freedom, since using\n",
    "sample means decreases our degrees of freedom by $ 1 \\times m $.\n",
    "\n",
    "The *within samples sum of squares* is defined as\n",
    "\n",
    "$ SS_W = \\sum^m_{i = 1}\\sum^n_{j = 1}(X_{ij}-\\overline{X_i})^2 $\n",
    "\n",
    "NOTE, $SS_W/(nm - m)$ ALWAYS ESTIMATES $\\sigma_2$.\n",
    "\n",
    "## Between Samples Sum of Squares\n",
    "\n",
    "The statistic below is defined as the *between samples sum of squares*.\n",
    "\n",
    "$ SS_b = \\sum^m_{i = 1}(\\overline{X_{i.}}-X_{..})^2 $\n",
    "\n",
    "where $X_{..}$ is defined as $\\sum^m_{i = 1}\\frac{\\overline{X_i}}{m}$\n",
    "\n",
    "WHEN $H_0$ IS TRUE, $SS_b/(m-1)$ BECOMES AN ESTIMATOR OF $\\sigma^2$.\n",
    "\n",
    "OTHERWISE, $SS_b/(m-1)$ WILL EXCEED $\\sigma^2$.\n",
    "\n",
    "## Test Statistic\n",
    "\n",
    "We can formulate the test statistic $TS$ by comparing the values of $SS_b/(m-1)$ and $SS_W/(nm - m)$,\n",
    "which would obviously be $1$ when $H_0$ is true (remember, this is when all means are equal).\n",
    "\n",
    "$ TS = \\frac{SS_b/(m-1)}{SS_W/(nm - m)}$\n",
    "\n",
    "When this value is substantially greater than 1, it gives us sufficient reason to reject $H_0$.\n",
    "\n",
    "## Significance Level Test of $H_0$\n",
    "\n",
    "To determine how large $TS$ has to be to reject our null hypothesis $H_0$, we use the fact that when\n",
    "$H_0$ is true, $SS_W$ and $SS_b$ are independent of one another.\n",
    "\n",
    "Thus, when $H_0$ is true, we can put the relationship between $SS_W$ and $SS_b$ into an F-distribution!\n",
    "\n",
    "We thus skip the statistical B.S. and construct a test for significance level $\\alpha$ as follows:\n",
    "\n",
    "- Reject $H_0$ if $\\frac{SS_b/(m-1)}{SS_W/(nm-m)} \\sim F_{m-1, nm-m, \\alpha}$\n",
    "- **Do not reject** $H_0$ otherwise.\n",
    "\n",
    "## Example\n",
    "\n",
    "*An auto rental firm is using 15 identical motors that are adjusted to run at a fixed speed to test 3 different brands of gasoline.\n",
    "Each brand of gasoline is assigned to exactly 5 of the motors. Each motor runs on 10 gallons of gasoline until it is out of fuel.*\n",
    "\n",
    "The following total mileages were obtained by the different motors:\n",
    "\n",
    "Gas 1: 220 251 226 246 260\n",
    "\n",
    "Gas 2: 244 235 232 242 225\n",
    "\n",
    "Gas 3: 252 272 250 238 256\n",
    "\n",
    "Test the hypothesis that the average mileage obtained is not affected by the type of gas used. Use the 5 percent level of significance.\n",
    "\n",
    "Here, note $X_{ij}$ denotes a certain \"identical motor\" testing a brand of gasoline.\n",
    "\n",
    "Also, our $H_0: \\mu_1 = \\mu_2 = ... = \\mu_m$, where $\\mu$ denotes the average mileage of the motor."
   ],
   "metadata": {
    "collapsed": false,
    "pycharm": {
     "name": "#%% md\n"
    }
   }
  },
  {
   "cell_type": "code",
   "execution_count": 42,
   "outputs": [
    {
     "name": "stdout",
     "text": [
      "alpha: 0.05\nX_i.: [0.029000000000000005, 0.027600000000000003, 0.030000000000000006]\nX_..: 0.02886666666666667\nsquare sum: 0.014303000000000001\nSS_b: 1.453333333333337e-05\nSS_W: 0.0017892\np-value: 0.9514265235900422\nTS: 0.04873686563827421\nF: 3.8852938346523933\n"
     ],
     "output_type": "stream"
    },
    {
     "data": {
      "text/plain": "False"
     },
     "metadata": {},
     "output_type": "execute_result",
     "execution_count": 42
    }
   ],
   "source": [
    "from scipy.stats import f\n",
    "\n",
    "# Takes in a matrix where each row is for a new gas #\n",
    "# Returns true if we must reject the null hypothesis for the\n",
    "#   given significance level\n",
    "def reject_h_0(data, alpha):\n",
    "    m = len(data)\n",
    "    n = len(data[0])\n",
    "    x_means = [ sum(data[i])/len(data[i]) for i in range(m) ]\n",
    "    x_dot_dot = sum(x_means) / len(x_means)\n",
    "    SS_b = n * sum([ (x_means[i] - x_dot_dot)**2 for i in range(m) ])\n",
    "    square_sum = sum([ sum([ data[i][j]**2 for j in range(n)]) for i in range(m) ])\n",
    "    SS_W = square_sum - n * m * x_dot_dot**2 - SS_b\n",
    "    TS = (SS_b / (m - 1))/(SS_W / (n * m - m))\n",
    "    p_val = f.sf(alpha, m - 1, n * m - m)\n",
    "    F = f.isf(alpha, m - 1, n * m - m)\n",
    "    print(\"alpha: \" + str(alpha))\n",
    "    print(\"X_i.: \" + str(x_means))\n",
    "    print(\"X_..: \" + str(x_dot_dot))\n",
    "    print(\"square sum: \" + str(square_sum))\n",
    "    print(\"SS_b: \" + str(SS_b))\n",
    "    print(\"SS_W: \" + str(SS_W))\n",
    "    print(\"p-value: \" + str(p_val))\n",
    "    print(\"TS: \" + str(TS))\n",
    "    print(\"F: \" + str(F))\n",
    "    return TS >= F\n",
    "\n",
    "reject_h_0([ [220, 251, 226, 246, 260], [244, 235, 232, 242, 225], [252, 272, 250, 238, 256] ], 0.05)"
   ],
   "metadata": {
    "collapsed": false,
    "pycharm": {
     "name": "#%%\n",
     "is_executing": false
    }
   }
  }
 ],
 "metadata": {
  "kernelspec": {
   "display_name": "Python 3",
   "language": "python",
   "name": "python3"
  },
  "language_info": {
   "codemirror_mode": {
    "name": "ipython",
    "version": 2
   },
   "file_extension": ".py",
   "mimetype": "text/x-python",
   "name": "python",
   "nbconvert_exporter": "python",
   "pygments_lexer": "ipython2",
   "version": "2.7.6"
  },
  "pycharm": {
   "stem_cell": {
    "cell_type": "raw",
    "source": [],
    "metadata": {
     "collapsed": false
    }
   }
  }
 },
 "nbformat": 4,
 "nbformat_minor": 0
}