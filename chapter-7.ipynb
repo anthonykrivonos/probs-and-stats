{
 "cells": [
  {
   "cell_type": "markdown",
   "source": [
    "# Chapter 7"
   ],
   "metadata": {
    "collapsed": false
   }
  },
  {
   "cell_type": "markdown",
   "source": [
    "## Maximum Likelihood Estimators\n",
    "\n",
    "Any statistic used to estimate the value of $\\theta$ is called an *estimator* of $\\theta$.\n",
    "\n",
    "Let $f(x_1, x_2, ..., x_n | \\theta)$ be the joint probability mass/density function of random variables $X_1, X_2, ..., and X_n$. We assume that\n",
    "$X_1, X_2, ..., X_n$ are *independent, identically distributed random variables*.\n",
    "\n",
    "The parameter $\\hat{\\theta}$ that maximized $f$ is the *maximum likelihood estimator*.\n",
    "\n",
    "Out of ease, we often use a log property to find a $\\hat{\\theta}$ that maximizes $log(f)$. This is called *log likelihood*.\n",
    "\n",
    "### Bernoulli Estimation\n",
    "\n",
    "$f(x_1, x_2, ..., x_n | p) = p^{x_1}(1-p)^{1-x_1}p^{x_2}(1-p)^{1-x_2}...p^{x_n}(1-p)^{1-x_n}$\n",
    "\n",
    "$f(x_1, x_2, ..., x_n | p) = p^{\\sum_{i = 1}^n x_n}(1-p)^{n-\\sum_{i = 1}^n x_n}$\n",
    "\n",
    "$logf(x_1, x_2, ..., x_n | p) = \\sum_{i=1}^{n}x_i logp + (n - \\sum_{i = 1}^{n}x_i)log(1-p)$\n",
    "\n",
    "$ \\frac{d}{dp} logf(x_1, x_2, ..., x_n | p) = \\sum_{i=1}{n}\\frac{x_i}{p} - (n - \\sum_{i = 1}^{n} x_i) log(1-p) $\n",
    "\n",
    "$ \\implies \\hat{p} = \\sum_{i=1}{n}\\frac{x_i}{n} $\n",
    "\n",
    "So, the estimator of $p$ to maximize the likelihood of a success occurring is the sample mean of the data points $x_i$.\n",
    "\n",
    "### Poisson Estimation\n",
    "\n",
    "### Normal Estimation\n",
    "\n",
    "### Uniform Estimation"
   ],
   "metadata": {
    "collapsed": false,
    "pycharm": {
     "name": "#%% md\n"
    }
   }
  },
  {
   "cell_type": "markdown",
   "source": [
    "## Confidence Intervals\n",
    "\n",
    "Let $\\bar{X}$ be a sample mean for a population with unknown mean $\\mu$ and variance $\\sigma^2 / \\sqrt{n}$. Thus, the following statistic\n",
    "has a standard normal distribution.\n",
    "\n",
    "$ \\boxed{ \\frac{\\bar{X} - \\mu}{\\sqrt{\\frac{\\sigma^2}{n}}} = \\frac{\\bar{X} - \\mu}{\\frac{\\sigma}{\\sqrt{n}}} = \\sqrt{n} \\frac{\\bar{X} - \\mu}{\\sigma} \\sim N(0, 1) } $\n",
    "\n",
    "Since we don't know the actual mean $\\mu$, it'd be nice to at least know the interval on which it lies. This\n",
    "is where confidence intervals come into play."
   ],
   "metadata": {
    "collapsed": false
   }
  },
  {
   "cell_type": "markdown",
   "source": [
    "## Confidence Intervals with Known Variance\n",
    "\n",
    "### 95% Confidence Interval (Two-Sided)\n",
    "\n",
    "If we use any standard distribution table, we can quickly find the two values of $z$ for which $Z$ has a $0.95 = 95\\% $ chance of occurring. In other words,\n",
    "the Z-score for $95\\%$ confidence is $\\pm 1.96$.\n",
    "\n",
    "$ P(-1.96 < Z < 1.96) = 0.95 $\n",
    "\n",
    "![95% confidence](https://upload.wikimedia.org/wikipedia/commons/b/bf/NormalDist1.96.png)\n",
    "\n",
    "Since $\\sqrt{n} \\frac{\\bar{X} - \\mu}{\\sigma} \\sim N(0, 1) = Z$, we can replace this $Z$ into the above equation.\n",
    "\n",
    "$ P(-1.96 < \\sqrt{n} \\frac{\\bar{X} - \\mu}{\\sigma} < 1.96) = 0.95 $\n",
    "\n",
    "$ P(-1.96 \\frac{\\sigma}{\\sqrt{n}} < \\bar{X} - \\mu < 1.96 \\frac{\\sigma}{\\sqrt{n}}) = 0.95 $\n",
    "\n",
    "$ P(-1.96 \\frac{\\sigma}{\\sqrt{n}} - \\bar{X} < - \\mu < 1.96 \\frac{\\sigma}{\\sqrt{n}} - \\bar{X}) = 0.95 $\n",
    "\n",
    "$ \\boxed{P(\\bar{X} - 1.96 \\frac{\\sigma}{\\sqrt{n}} < \\mu < \\bar{X} + 1.96 \\frac{\\sigma}{\\sqrt{n}}) = 0.95} $\n",
    "\n",
    "Now, let's observe the sample and say that $\\bar{X} = \\bar{x}$.\n",
    "\n",
    "Thus, we can say, *with 95% confidence* , $\\mu \\in (\\bar{x} - 1.96 \\frac{\\sigma}{\\sqrt{n}}, \\bar{x} + 1.96 \\frac{\\sigma}{\\sqrt{n}})$.\n",
    "\n",
    "### 90% Confidence Interval (Two-Sided)\n",
    "\n",
    "Using the results from above and simply noting that the Z-score for 0.9 is 1.645, \n",
    "we can say, *with 90% confidence* , $\\mu \\in (\\bar{x} - 1.645 \\frac{\\sigma}{\\sqrt{n}}, \\bar{x} + 1.645 \\frac{\\sigma}{\\sqrt{n}})$.\n",
    "\n",
    "The same works for 99% confidence, which has a Z-score of 2.576.\n",
    "\n",
    "### One-Sided Confidence Interval\n",
    "\n",
    "A one-sided confidence interval uses a one-sided Z-score for a given confidence level. For 95%, we have the following:\n",
    "\n",
    "$ P(Z < 1.645) = 0.95 $\n",
    "\n",
    "Thus, performing the same substitutions as above leads us to:\n",
    "\n",
    "$ P(\\bar{X} - 1.645 \\frac{\\sigma}{\\sqrt{n}} < \\mu) = 0.95 $\n",
    "\n",
    "![95% one-sided](data:image/png;base64,iVBORw0KGgoAAAANSUhEUgAAAVAAAACWCAMAAAC/8CD2AAABPlBMVEX///8AAIBXV3UAAHYAAIIAAIYAAFjU1O5ERGMAAHwAAH0AAHkAAAD+/v/k5OSSkpExMS3i4vRKSmMAAHJkZLP29vY2NppKSoNVVVXLy8vt7e35+f2FhYV3d3fq6uqZmZkhISG3t7deXlfOzuTz8/pqamrq6vC9vdfIyONcXJ8uLonY2NihoaEICH0aGhoNDQxLS6E5OThPT06/v79VVaSnp85ERJKwsNGTk7/W1uIWFoF1dbKPj8JDQ0MmJiZTU71cXJQAAGUTE46IiJV9fZKbm6EhIYSrq6qyssGnp756eoUZGSNcXKOKisyJibxvb4bHx89KSlGfn86RkZgpKZc+Pphubq6dnb8dHZKIiLR3d8RKSr1xccrLy+81NZ5ubqKTk6pNTVupqeM5ObN5eaqNjbFkZMa1teY7OzQ0NFofdoUmAAAJtUlEQVR4nO2dC3faRhaA51Y4rGYkMKvKy8vGlJeNsDEGDBjjtk5iJ61NEhpjt7ubbLL2bvb//4GVBEkNSOjBCIGkLzkningczXfu1Z0ZjQRCAQEBAQEBAZbgRbePwGMUo24fgceIBELpEgilTCCUMoFQygRCKRMIpUwglDKBUMoEQikTCKVMIJQygVDKBEIpEwilST539uNP3WbR7ePwCLFSFws/PyPMSSvm9rGsP6m9wT5LcIh5tgGE7N/tpdw+ovUm3y6zBABUoQCELbeDxF+A8NYBBvhTKAArbOXdPio34JM7Mkl+9pXkjvjne1KjPTvaV+CKA4EATAoFYC72NL7W66Tq8WomGr+aafrb59EXEXUr/zIafZFESNrkuIrWdxT3BRyaFQrsQdOPJ9LooYgyXGJqr9i7Qum4uvmyIPLH20iMVrLZiMYXFIcEf3U4IRTYy6YP0z5zmESJ3fTU3qtaBEkjzecZhF6dJxObhSutz+evCYC2UNno0H9GFaFZ7rW8VU+rRBUH2/EkylfVDK/KsnNcvfNLlUtrnBSPGNAVCpg5Wm5rVoAMV6n0CtN7a3ER5bltZTNaq6P0rx15q8LNxGhx0ue0ULk0HfktRjPVq6ykbklZlbpSSY5Voeq4nK9E3/Zqan0vTA/UixP5riUUszc+q/VKyo8oJkYo28/fFVGHezV+JTEu7y+nhKb6Uz5nhSqVyV+1vvJN6FOkXxMoK9d/Nboix2/ULfHN28l3NS+xoVBgT/eW0IyVYafAZTV2i9Ffcu+yKFGTUPLVcTqJks/j6cJUN3RwwIKxUCBbPhqF8vV09LeO1iv1qHxmLb7cQfXR64loeqoXGham41NbaEh473xDPED+diY+tYXKO8/cPtg1INU+mPWpLRTwQcntw1199sqzCa8nFNjrYMrZgOJQI+F1hQLb9VFhskUJtAJUVyiGlttHvNrkLqa79POFAgkFST+PI22f+kKB6bp9zKtMk9G2NkcoML4aMFkjfKlZkeYKDQkNtw97ZeG1K7xBhAIJuvc6tHV9zhWKT8JuH/lqkivbEwqk77fJZlPkz/QqkpFQ9jKoSxp0TvUDdL5QII1gvDRLX9A3ZiAUyJ3bR796dBjNMac5oex9cBadZjjnDGooFJjf3T7+VSPGzgtQQ6EYB0P6CYpDnUG8SaFAhkFdekpzToU3JRTYptttWCU613MT3pTQa81rgj6lpT2tbEUohIKp5m90Tgx8mhGKT4IQHZP6Y26XyaRQYP7w2WonXZIbBiXJnFB2Iyj0Iz4wISNZZoRi4e9ut2Q1aBkmvDmhgMk/3W7LKiA2DBPepFBgGsGQXg7QU2NTJoXCadB1QmGttWF2hbK3vk96vm3iDGpaKJC237tO4fv5syJWhd7n3G6Ru/CPpnyaFgrMjb9W3k+TOzAadFoUSnzeu98yU5GsCAXhH263yU1y8y7M2RNKWB/P3Wsup19QKPZziN6YO4FaEgq47NuVOeFbcyXemlAgN243zCX4wfwrnbaFbvl0uBT+YGqQZFkosH1f9kVTH82WeKtCCfHl7Us5bDrhLQoFdt+PvfvpW+IpCpUHoG63bvl0rPi0KpRs+G+muWG+IlkX6sMBaMnMPL19oVjwWV3K71vKeMtCgVz7K+mb1gLUulA4bfpp7n7eDR+UhDJHPhrS57vWEt6OUOyn9Y2lkMUAtSEUmPe+WTwWKxPDtTeLCwWh4Zez6NCyT1tCMfbJFdDwqYVB/AJCgfHHfcopi11Q+0KBvHa7sctgYD0+7QrFJz6YdYrZCVCbQoF98PxUc+rMao9pEaH40vND+tilnQC1K9T79ynzfUuzdgsLxeyZtzujsQ07Jcm+UMAhb4foe1sJv4BQeQTq5RBt2fS5gFBgPPxwgtiJrRK/mFAvP5FkznOEnBMKrGfv/C7ZGMRTEIqJR2dG8wYPGXBKKLAb3kz6lpWlIjSFAtnX/n2h9SZcth+gCwr15uPxrK1soCsUs967HNJdxOeiQoEte82oxZUitIUC2/XWRF7RzC3HTgrF5ZaXhqD5vv0CT0cosLceSnr+zn6XnpZQwB5a7RSDxRKejlDGM5fs8heL+qQhFLDgkccTiF3B8sIGJ4TKp1FP3LUoPi4cn5SEAml4wKjYNnkH9xKEAu6v/6A+N+/RyqahJRSv/SM09H4txSKUhAIwaz43SsknPaHsej+UJGdvWcMs1IQCeb/GRvfM379tAD2hQNb3vsWc6Qc2GEJRKOCHNR2D7pl7JJMpaAoF8lEvRqVjjjvnatL0/uTuYXy8M109VH4au87tVivTb3OW3IXxUyxNQ1UosB91b7kpbKPIu9rUrxCLvSjKvFG7sK/ORalXR8l43Vl7M4itU+sr6fWhK1SuTHrXQQsFhK64qRC94niU2FV3xrcRisb5q2omovVxxxB/x9TOnwqUhYJQbmmfSOUIRVlOllXfVikowRqtKr+MrfzEuHT+Wva7K0qV42Ot3352ilTb6LHfFqEtNCSPmTSviRRqKFKr7cinzcgIZWS1fS7//4d/yVv16lslYOXsTyqWl0XuntD1SV0oKF18rZmSAnd+GFeyWRyj7EzLQouf0vJW4jAhC62qe2uZJeks3glU013BAaFANjqzUyVKyqtkj+MKPTlYUYWTk30zoWjuyVqjPfVz8aul6EztNej1lr7hhFBgcXs6SPlvQp8SOcyizCe19P/WQzvxCpJEJPWSGm+lTr5Pa7Q5gSNCAbPXnydq006a29VK5Prm9nEdidsJJBYKhbSIeoXodmIZPksn5h9uZQVnhMppjyd+QkSUZLTaJUnyeZWX5JhMSnJ0oogk7SxBZ2e48NU4HZwSKis9GK7o9eVUpxtaaLnNPJwTCsBsNGMrOO2ce9ig3Vd6gpNCgTD3zVWbLwkPyg7qdFioHKTkRX+FEr+T6544dfIc47DQENuLlbrXn902qVD8fHR5SpzV6bhQID8gPiU2mgM31+ilUrFY6d9YEJzM9TFLEKrQuW21WrGUCyUqX8y1Hh/vLwSBDVGcpdNlSUIRaj089AfNVmlveYU/VQw3B93hJfz8DLOwDJuwRKFKsLRaj8Oj79ulXNG52h8bcdftdofXRwzDYsISxtE2TuB0UXoqVEYsxjqt5n+OGt1+/+a/48ZbsRsLaxIrfT9ma8Q9sCxLCMHKHTJk8TVg5lu8xAj9SkoUO4Ozs5sPo7Z/uB27aGnLCj+9rPIXPf464lM0o/zJPDS+a+z/7Ss/fecdepsTnCvI/3758qWSGbU982ksQ0fV/yxNj4o8L8p/rHzEK4jjtlNZZsbz6l8aXxUQELAK/B+grQgUQarNIQAAAABJRU5ErkJggg==)\n",
    "\n",
    "Thus, we can say, *with 95% confidence* , $\\mu \\in (\\bar{x} - 1.645 \\frac{\\sigma}{\\sqrt{n}}, \\infty)$. This is an upper confidence interval."
   ],
   "metadata": {
    "collapsed": false
   }
  },
  {
   "cell_type": "markdown",
   "source": [
    "## Confidence Intervals with Unknown Variance\n",
    "\n",
    "### Two-Sided\n",
    "\n",
    "Recall that $ \\sqrt{n} \\frac{\\bar{X} - \\mu}{S} \\sim t_{n - 1} $. Then, by the symmetry of the t-distribution,\n",
    "we have the following:\n",
    "\n",
    "$ P(-t_{\\alpha/2, n-1} < \\sqrt{n} \\frac{\\bar{X} - \\mu}{S} < t_{\\alpha/2, n-1}) = 1 - \\alpha $\n",
    "\n",
    "Applying a similar simplification as we'd done for confidence interval estimation with known variance, we get the following:\n",
    "\n",
    "$ \\boxed{P(\\bar{X} - t_{\\alpha/2, n-1} \\frac{S}{\\sqrt n} < \\mu < \\bar{X} + t_{\\alpha/2, n-1} \\frac{S}{\\sqrt n}) = 1 - \\alpha} $\n",
    "\n",
    "Thus, we say that, with $$ 100(1 - \\alpha) $$ confidence, $ \\mu \\in (\\bar{x} - t_{\\alpha/2, n-1} \\frac{S}{\\sqrt n}, \\bar{x} + t_{\\alpha/2, n-1} \\frac{S}{\\sqrt n})$.\n",
    "\n",
    "### One-Sided\n",
    "\n",
    "$ P(t_{\\alpha, n-1} < \\sqrt{n} \\frac{\\bar{X} - \\mu}{S}) = \\alpha $\n",
    "\n",
    "$ P(\\sqrt{n} \\frac{\\bar{X} - \\mu}{S} < t_{\\alpha, n-1}) = 1 - \\alpha $\n",
    "\n",
    "$ \\implies \\boxed{ P(\\bar{X} - t_{\\alpha, n-1} \\frac{S}{\\sqrt n} < \\mu) = 1 - \\alpha } $\n",
    "\n",
    "\n",
    "## Prediction Intervals\n",
    "\n",
    "Suppose we have $n$ random variables $X_1, X_2, ..., X_n$, and we want to predict the next r.v. $X_{n+1}$.\n",
    "\n",
    "A good estimator for $X_{n+1}$ would be $\\bar{X_n}=\\sum_{i=1}^{n}\\frac{x_i}{n}$.\n",
    "\n",
    "We know that $X_{n+1}$ has the same mean and variance as the other random variables $X_i$: $\\mu$ and $\\sigma^2$.\n",
    "\n",
    "Thus, the r.v. $X_{n+1} - \\bar{X_n}$ must have mean $\\mu - \\mu = 0$ and variance $\\sigma^2 + \\frac{\\sigma^2}{n}$.\n",
    "\n",
    "By the same arguments as for confidence intervals, we know that $ \\frac{X_{n+1} - \\bar{X_n}}{\\sqrt{\\sigma^2 + \\frac{\\sigma^2}{n}}} = \\frac{X_{n+1} - \\bar{X_n}}{\\sigma\\sqrt{1 + \\frac{1}{n}}} \\sim N(0,1) $.\n",
    "\n",
    "However, since we usually work with unknown variance we use the following result:\n",
    "\n",
    "$ \\frac{X_{n+1} - \\bar{X_n}}{S_{n}\\sqrt{1 + \\frac{1}{n}}} \\sim t_{n - 1} $, where $S_n$ is the sample variance for $X_1, X_2, ..., X_n$.\n",
    "\n",
    "Putting this together with the result for unknown variance gives us:\n",
    "\n",
    "$ P(-t_{\\alpha/2, n-1} < \\frac{X_{n+1} - \\bar{X_n}}{S_{n}\\sqrt{1 + \\frac{1}{n}}} < t_{\\alpha/2, n-1}) = 1 - \\alpha $\n",
    "\n",
    "The above equation boils down to:\n",
    "\n",
    "$ \\boxed{ P(\\bar{X_n} - t_{\\alpha/2,n-1} S_n \\sqrt{1 + \\frac{1}{n}} < X_{n+1} < \\bar{X_n} + t_{\\alpha/2,n-1} S_n \\sqrt{1 + \\frac{1}{n}}) } $\n",
    "\n",
    "And the interval for $X_{n+1}$ becomes as follows:\n",
    "\n",
    "$ \\boxed{ X_{n+1} \\in (\\bar{x_n} - t_{\\alpha/2,n-1} S_n \\sqrt{1 + \\frac{1}{n}}, \\bar{x_n} + t_{\\alpha/2,n-1} S_n \\sqrt{1 + \\frac{1}{n}}) } $"
   ],
   "metadata": {
    "collapsed": false
   }
  },
  {
   "cell_type": "markdown",
   "source": [
    "## Confidence Intervals for Variance of a Normal Distribution\n",
    "\n",
    "We use the unexplained (in the textbook, at least) result that $ (n-1)\\frac{S^2}{\\sigma^2} \\sim \\chi_{n-1}^2 $.\n",
    "\n",
    "Now, watch this:\n",
    "\n",
    "$ P(\\chi_{1 - \\alpha/2, n - 1} < X < \\chi_{\\alpha/2, n - 1}) = 1 - \\alpha $\n",
    "\n",
    "$ P(\\chi_{1 - \\alpha/2, n - 1} < (n-1)\\frac{S^2}{\\sigma^2} < \\chi_{\\alpha/2, n - 1}) = 1 - \\alpha $\n",
    "\n",
    "Or, uglier,\n",
    "\n",
    "$ \\boxed{ P(\\frac{(n-1)S^2}{\\chi_{\\alpha/2, n - 1}} < (n-1)\\frac{S^2}{\\sigma^2} < \\frac{(n-1)S^2}{\\chi_{1 - \\alpha/2, n - 1}}) = 1 - \\alpha } $\n",
    "\n",
    "Thus, the interval for $\\sigma^2$ is as follows:\n",
    "\n",
    "$ \\boxed{ \\sigma^2 \\in (\\frac{(n-1)s^2}{\\chi_{\\alpha/2, n - 1}}, \\frac{(n-1)s^2}{\\chi_{1-\\alpha/2, n - 1}}) }$"
   ],
   "metadata": {
    "collapsed": false
   }
  },
  {
   "cell_type": "markdown",
   "source": [
    "## Estimating the Difference in Means of Two Normal Populations\n",
    "\n",
    "Suppose we have two sets of r.v.s, $X = X_1, X_2, ..., X_n $ and $Y = Y_1, Y_2, ..., Y_m$ with sample means that are distributed as follows:\n",
    "\n",
    "$ \\bar{X} \\sim N(\\mu_1, \\frac{\\sigma_1^2}{n}) $ and $ \\bar{Y} \\sim N(\\mu_2, \\frac{\\sigma_2^2}{m}) $\n",
    "\n",
    "Thus,\n",
    "\n",
    "$ \\bar{X} - \\bar{Y} \\sim N(\\mu_1 - \\mu_2, \\frac{\\sigma_1^2}{n} + \\frac{\\sigma_2^2}{m}) $.\n",
    "\n",
    "So, if we take $\\bar{X} - \\bar{Y}$ as its own r.v., we have the following result:\n",
    "\n",
    "$ \\frac{\\bar{X} - \\bar{Y} - (\\mu_1 - \\mu_2)}{\\sqrt{\\frac{\\sigma_1^2}{n} + \\frac{\\sigma_2^2}{m}}} \\sim N(0, 1) $.\n",
    "\n",
    "This leads to:\n",
    "\n",
    "$ P(-z_{\\alpha/2} < \\frac{\\bar{X} - \\bar{Y} - (\\mu_1 - \\mu_2)}{\\sqrt{\\frac{\\sigma_1^2}{n} + \\frac{\\sigma_2^2}{m}}} < z_{\\alpha/2}) = 1 - \\alpha $\n",
    "\n",
    "$ \\boxed{ P(\\bar{X} - \\bar{Y} - z_{\\alpha/2}\\sqrt{\\frac{\\sigma_1^2}{n} + \\frac{\\sigma_2^2}{m}} < \\mu_1 - \\mu_2 < \\bar{X} - \\bar{Y} + z_{\\alpha/2}\\sqrt{\\frac{\\sigma_1^2}{n} + \\frac{\\sigma_2^2}{m}}) = 1 - \\alpha }$\n",
    "\n",
    "Thus, the interval for $\\mu_1 - \\mu_2$ is as follows:\n",
    "\n",
    "$ \\boxed{\\mu_1 - \\mu_2 \\in (\\bar{x} - \\bar{y} - z_{\\alpha/2}\\sqrt{\\frac{\\sigma_1^2}{n} + \\frac{\\sigma_2^2}{m}}, \\bar{x} - \\bar{y} + z_{\\alpha/2}\\sqrt{\\frac{\\sigma_1^2}{n} + \\frac{\\sigma_2^2}{m}})} $\n",
    "\n",
    "### With $\\sigma_1, \\sigma_2$ Unknown But Equal\n",
    "\n",
    "$ \\boxed{ P(\\bar{X} - \\bar{Y} - t_{\\alpha/2, n + m - 2}\\sqrt{(\\frac{1}{n} + \\frac{1}{m})\\frac{(n-1)S_1^2 + (m-1)S_2^2}{n+m-2}} < \\mu_1 - \\mu_2 < \\bar{X} - \\bar{Y} + t_{\\alpha/2, n + m - 2}\\sqrt{(\\frac{1}{n} + \\frac{1}{m})\\frac{(n-1)S_1^2 + (m-1)S_2^2}{n+m-2}}) = 1 - \\alpha }$"
   ],
   "metadata": {
    "collapsed": false
   }
  },
  {
   "cell_type": "markdown",
   "source": [
    "## Estimating the Mean of a Bernoulli Distribution\n",
    "\n",
    "Recall that, for a Bernoulli distribution with $n$ samples and a success probability of $p$,\n",
    "\n",
    "$E(X)=np$ and $Var(X) = npq = np(1-p)$\n",
    "\n",
    "We thus know that, due to the central limit theorem,\n",
    "\n",
    "$ \\frac{\\bar{X} - np}{\\sqrt{np(1-p)}} \\sim N(0,1) $\n",
    "\n",
    "Now, let $\\hat{p}$ be the *maximum likelihood estimator* for $p$.\n",
    "\n",
    "Thus, $ P(-z_{\\alpha/2} < \\frac{\\bar{X} - np}{\\sqrt{n\\hat{p}(1-\\hat{p})}} < z_{\\alpha/2}) \\approx 1 - \\alpha $.\n",
    "\n",
    "The above probability eventually yields the following result after simplification:\n",
    "\n",
    "$ P(\\hat{p} - z_{\\alpha/2}\\sqrt{\\frac{\\hat{p}(1-\\hat{p})}{n}} < p < \\hat{p} + z_{\\alpha/2}\\sqrt{\\frac{\\hat{p}(1-\\hat{p})}{n}}) \\approx 1 - \\alpha $"
   ],
   "metadata": {
    "collapsed": false
   }
  },
  {
   "cell_type": "markdown",
   "source": [
    "## Key R.V.s\n",
    "\n",
    "$ \\sqrt{n} \\frac{\\bar{X} - \\mu}{\\sigma} \\sim N(0, 1) $\n",
    "\n",
    "$ \\sqrt{n} \\frac{\\bar{X} - \\mu}{S} \\sim t_{n-1} $\n",
    "\n",
    "$ \\frac{\\bar{X_{n+1}} - \\bar{X_n}}{S_n\\sqrt{1 + \\frac{1}{n}} } \\sim t_{n-1} $\n",
    "\n",
    "$ (n-1)\\frac{S^2}{\\sigma^2} \\sim \\chi_{n-1}^2 $\n",
    "\n",
    "$ \\frac{\\bar{X} - \\bar{Y} - (\\mu_1 - \\mu_2)}{\\sqrt{\\frac{\\sigma_1^2}{n} + \\frac{\\sigma_2^2}{m}}} \\sim N(0, 1) $"
   ],
   "metadata": {
    "collapsed": false
   }
  }
 ],
 "metadata": {
  "kernelspec": {
   "display_name": "Python 3",
   "language": "python",
   "name": "python3"
  },
  "language_info": {
   "codemirror_mode": {
    "name": "ipython",
    "version": 2
   },
   "file_extension": ".py",
   "mimetype": "text/x-python",
   "name": "python",
   "nbconvert_exporter": "python",
   "pygments_lexer": "ipython2",
   "version": "2.7.6"
  },
  "pycharm": {
   "stem_cell": {
    "cell_type": "raw",
    "source": [],
    "metadata": {
     "collapsed": false
    }
   }
  }
 },
 "nbformat": 4,
 "nbformat_minor": 0
}