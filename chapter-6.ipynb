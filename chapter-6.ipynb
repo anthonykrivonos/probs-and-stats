{
 "cells": [
  {
   "cell_type": "markdown",
   "source": [
    "# Chapter 6"
   ],
   "metadata": {
    "collapsed": false
   }
  },
  {
   "cell_type": "markdown",
   "source": [
    "## Sample Mean\n",
    "\n",
    "$ \\bar{X} = \\frac{X_1 + X_2 + ... + X_n}{n}$"
   ],
   "metadata": {
    "collapsed": false,
    "pycharm": {
     "name": "#%% md\n"
    }
   }
  },
  {
   "cell_type": "markdown",
   "source": [
    "## Central Limit Theorem\n",
    "\n",
    "For $n$ large, the distribution of $X_1 + X_2 + ... + X_n$ is approximately\n",
    "normal with mean $n\\mu$ and variance $n\\sigma^2$.\n",
    "\n",
    "$P (\\frac{X_1 + X_2 + ... + X_n - n\\mu}{\\sigma \\sqrt n} < X) \\approx P(Z < x) $\n",
    "\n",
    "### Example\n",
    "\n",
    "An insurance company has 25,000 automobile policy holders. If the yearly claim of a\n",
    "policy holder is a random variable with mean 320 and standard deviation 540, approximate\n",
    "the probability that the total yearly claim exceeds 8.3 million.\n",
    "\n",
    "mean: $n \\mu = (25000)(320) = 8000000$\n",
    "\n",
    "std dev: $\\sigma \\sqrt n = (540)\\sqrt{25000} = 85381.50 $\n",
    "\n",
    "So, $ P(X > 8300000) = P(\\frac{X - 8000000}{85381.50} > \\frac{8300000 - 8000000}{85381.50}) = P(Z > \\frac{8300000 - 8000000}{85381.50}) = P(Z > 3.5) = 1 - P(Z < 3.5) = 0.0003 $"
   ],
   "metadata": {
    "collapsed": false
   }
  },
  {
   "cell_type": "markdown",
   "source": [
    "## Sample Variance\n",
    "\n",
    "The sample variance is defined as follows,\n",
    "\n",
    "$ S^2 = \\frac{\\sum_{i=1}^{n} (X_i - \\bar X)^2}{n - 1} $\n",
    "\n",
    "Additionally, we have the result that\n",
    "\n",
    "$ \\sqrt{n} \\frac{\\bar{X} - \\mu}{S} \\sim t_{n-1}$\n",
    "\n"
   ],
   "metadata": {
    "collapsed": false,
    "pycharm": {
     "name": "#%% md\n"
    }
   }
  }
 ],
 "metadata": {
  "kernelspec": {
   "display_name": "Python 3",
   "language": "python",
   "name": "python3"
  },
  "language_info": {
   "codemirror_mode": {
    "name": "ipython",
    "version": 2
   },
   "file_extension": ".py",
   "mimetype": "text/x-python",
   "name": "python",
   "nbconvert_exporter": "python",
   "pygments_lexer": "ipython2",
   "version": "2.7.6"
  },
  "pycharm": {
   "stem_cell": {
    "cell_type": "raw",
    "source": [],
    "metadata": {
     "collapsed": false
    }
   }
  }
 },
 "nbformat": 4,
 "nbformat_minor": 0
}