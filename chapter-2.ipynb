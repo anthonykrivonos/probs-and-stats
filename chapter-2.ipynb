{
 "cells": [
  {
   "cell_type": "markdown",
   "source": [
    "# Chapter 2"
   ],
   "metadata": {
    "collapsed": false,
    "pycharm": {
     "name": "#%% md\n"
    }
   }
  },
  {
   "cell_type": "markdown",
   "source": [
    "# Markov's Inequality\n",
    "\n",
    "The probability that r.v. $X$ is greater than or equal to k ≤ the expectation divided by $k$.\n",
    "\n",
    "$ \\boxed{P(X ≥ k) ≤ \\frac{E(X)}{k}} $"
   ],
   "metadata": {
    "collapsed": false,
    "pycharm": {
     "name": "#%% md\n"
    }
   }
  },
  {
   "cell_type": "code",
   "source": [
    "def markov(k, data):\n",
    "    return (sum(data)/len(data))/k\n",
    "\n",
    "observation = [ 5, 10, 15, 20, 25 ]\n",
    "print('The probability that an r.v. X is greater than 20 from the distribution of sample ' + str(observation) + ' ≤ ' + str(markov(20, observation)) + '.')"
   ],
   "metadata": {
    "collapsed": false,
    "pycharm": {
     "name": "#%%\n",
     "is_executing": false
    }
   },
   "execution_count": 6,
   "outputs": [
    {
     "name": "stdout",
     "text": [
      "The probability that an r.v. X is greater than 20 from the distribution of sample [5, 10, 15, 20, 25] ≤ 0.75.\n"
     ],
     "output_type": "stream"
    }
   ]
  },
  {
   "cell_type": "markdown",
   "source": [
    "## Chebyshev's Inequality\n",
    "\n",
    "We start with Markov's inequality.\n",
    "\n",
    "$ P(X ≥ k) ≤ \\frac{E(X)}{k} $\n",
    "\n",
    "Now, we replace $X$ by $X^2$ and $k$ by $k^2$. This'll help us cancel stuff out since we've got a pretty equation for variance.\n",
    "\n",
    "$ P(X^2 ≥ k^2) ≤ \\frac{E(X^2)}{k^2} $\n",
    "\n",
    "Now, let's replace $X^2$ by $(X - E(X))^2$, since this is easier to work with.\n",
    "\n",
    "$ P((X - E(X))^2 ≥ k^2) ≤ \\frac{E((X - E(X))^2)}{k^2} $\n",
    "\n",
    "We now set mean $μ = E(X)$ and the variance to be $σ^2 = E((X - E(X))^2)$, by definition. So,\n",
    "Also, substitute $kσ$ for $k$.\n",
    "\n",
    "$ P((X - μ)^2 ≥ k^2) ≤ \\frac{σ^2}{σ^2k^2} $\n",
    "\n",
    "$\\boxed{P(|X - μ| ≥ kσ) ≤ \\frac{1}{k^2}}$"
   ],
   "metadata": {
    "collapsed": false,
    "pycharm": {
     "name": "#%% md\n"
    }
   }
  },
  {
   "cell_type": "code",
   "execution_count": 7,
   "outputs": [
    {
     "name": "stdout",
     "text": [
      "The probability that X is within 2 standard deviations from μ ≥ 0.75\n"
     ],
     "output_type": "stream"
    }
   ],
   "source": [
    "def chebyshev(k):\n",
    "    return 1 - 1/k**2\n",
    "\n",
    "print('The probability that X is within 2 standard deviations from μ ≥ ' + str(chebyshev(2)))\n"
   ],
   "metadata": {
    "collapsed": false,
    "pycharm": {
     "name": "#%%\n",
     "is_executing": false
    }
   }
  }
 ],
 "metadata": {
  "kernelspec": {
   "display_name": "Python 3",
   "language": "python",
   "name": "python3"
  },
  "language_info": {
   "codemirror_mode": {
    "name": "ipython",
    "version": 2
   },
   "file_extension": ".py",
   "mimetype": "text/x-python",
   "name": "python",
   "nbconvert_exporter": "python",
   "pygments_lexer": "ipython2",
   "version": "2.7.6"
  },
  "pycharm": {
   "stem_cell": {
    "cell_type": "raw",
    "source": [],
    "metadata": {
     "collapsed": false
    }
   }
  }
 },
 "nbformat": 4,
 "nbformat_minor": 0
}